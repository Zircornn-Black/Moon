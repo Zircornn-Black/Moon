{
  "cells": [
    {
      "cell_type": "markdown",
      "metadata": {
        "id": "view-in-github",
        "colab_type": "text"
      },
      "source": [
        "<a href=\"https://colab.research.google.com/github/Zircornn-Black/Moon/blob/main/Data_Serialization_Formats_Checkpoint_PK.ipynb\" target=\"_parent\"><img src=\"https://colab.research.google.com/assets/colab-badge.svg\" alt=\"Open In Colab\"/></a>"
      ]
    },
    {
      "cell_type": "markdown",
      "metadata": {
        "deletable": false,
        "editable": false,
        "nbgrader": {
          "cell_type": "markdown",
          "checksum": "ffa6e094108fe1030b6d11074af22bc7",
          "grade": false,
          "grade_id": "cell-9bfaf5568d5638d6",
          "locked": true,
          "schema_version": 3,
          "solution": false,
          "task": false
        },
        "id": "6qxKw60ctUFD"
      },
      "source": [
        "# Data Serialization Formats Checkpoint\n",
        "\n",
        "This checkpoint is designed to test your understanding of the content from the Data Serialization Formats Cumulative Lab.\n",
        "\n",
        "Specifically, this will cover:\n",
        "\n",
        "* Reading serialized CSV data from a file into a Python object\n",
        "* Extracting information from nested data structures\n",
        "\n",
        "## Your Task: Extract Frequency Counts for Education Levels from a CSV\n",
        "\n",
        "### Data Understanding\n",
        "\n",
        "In this repository under the file path `salaries.csv` there is a CSV data file containing salary and demographic information. When loaded into Python as a list of dictionaries, each dictionary looks something like this:\n",
        "\n",
        "```\n",
        "{\n",
        "  'Age':          '39',\n",
        "  'Education':    'E - Bachelors',\n",
        "  'Occupation':   'Adm-clerical',\n",
        "  'Relationship': 'Not-in-family',\n",
        "  'Race':         'White',\n",
        "  'Sex':          'Male',\n",
        "  'Target':       '<=50K'\n",
        " }\n",
        "```\n",
        "\n",
        "Most of this information is irrelevant for the current task; the one piece that you need to focus on is the `Education` key-value pair.\n",
        "\n",
        "Your task is to create a **frequency table** where the various education levels (values associated with the `Education` keys) are encoded as keys, and the frequencies of those education levels are encoded as values.\n",
        "\n",
        "### Requirements\n",
        "\n",
        "#### 1. Import the Relevant Module\n",
        "\n",
        "#### 2. Open the File and Create a List of Records\n",
        "\n",
        "#### 3. Identify the Unique Education Levels\n",
        "\n",
        "#### 4. Create a Frequency Table of Education Levels\n",
        "\n",
        "#### 5. Identify the Most Common Education Level"
      ]
    },
    {
      "cell_type": "markdown",
      "metadata": {
        "deletable": false,
        "editable": false,
        "nbgrader": {
          "cell_type": "markdown",
          "checksum": "76106c7a3c0dd2aa3950d3a5cc835773",
          "grade": false,
          "grade_id": "cell-429245ee422b9d51",
          "locked": true,
          "schema_version": 3,
          "solution": false,
          "task": false
        },
        "id": "HCYQfwv3tUFF"
      },
      "source": [
        "## 1. Import the Relevant Module\n",
        "\n",
        "In the cell below, import the module used for working with CSV data in Python:"
      ]
    },
    {
      "cell_type": "code",
      "source": [
        "import pandas as pd\n",
        "import numpy as np\n",
        "import matplotlib.pyplot as plt\n",
        "df = pd.read_csv(\"/content/salaries.csv\")\n",
        "df"
      ],
      "metadata": {
        "colab": {
          "base_uri": "https://localhost:8080/",
          "height": 423
        },
        "id": "Xz3ppZqgt9Tr",
        "outputId": "ef8992cf-0f67-4137-a3c4-75a8a5f39d36"
      },
      "execution_count": 4,
      "outputs": [
        {
          "output_type": "execute_result",
          "data": {
            "text/plain": [
              "       Age          Education         Occupation   Relationship   Race  \\\n",
              "0       39      E - Bachelors       Adm-clerical  Not-in-family  White   \n",
              "1       50      E - Bachelors    Exec-managerial        Husband  White   \n",
              "2       38     B - HS Diploma  Handlers-cleaners  Not-in-family  White   \n",
              "3       53  A - No HS Diploma  Handlers-cleaners        Husband  Black   \n",
              "4       28      E - Bachelors     Prof-specialty           Wife  Black   \n",
              "...    ...                ...                ...            ...    ...   \n",
              "32556   27     D - Associates       Tech-support           Wife  White   \n",
              "32557   40     B - HS Diploma  Machine-op-inspct        Husband  White   \n",
              "32558   58     B - HS Diploma       Adm-clerical      Unmarried  White   \n",
              "32559   22     B - HS Diploma       Adm-clerical      Own-child  White   \n",
              "32560   52     B - HS Diploma    Exec-managerial           Wife  White   \n",
              "\n",
              "          Sex Target  \n",
              "0        Male  <=50K  \n",
              "1        Male  <=50K  \n",
              "2        Male  <=50K  \n",
              "3        Male  <=50K  \n",
              "4      Female  <=50K  \n",
              "...       ...    ...  \n",
              "32556  Female  <=50K  \n",
              "32557    Male   >50K  \n",
              "32558  Female  <=50K  \n",
              "32559    Male  <=50K  \n",
              "32560  Female   >50K  \n",
              "\n",
              "[32561 rows x 7 columns]"
            ],
            "text/html": [
              "\n",
              "  <div id=\"df-f6d1be23-7f24-48b6-856c-6de9ccb4787a\" class=\"colab-df-container\">\n",
              "    <div>\n",
              "<style scoped>\n",
              "    .dataframe tbody tr th:only-of-type {\n",
              "        vertical-align: middle;\n",
              "    }\n",
              "\n",
              "    .dataframe tbody tr th {\n",
              "        vertical-align: top;\n",
              "    }\n",
              "\n",
              "    .dataframe thead th {\n",
              "        text-align: right;\n",
              "    }\n",
              "</style>\n",
              "<table border=\"1\" class=\"dataframe\">\n",
              "  <thead>\n",
              "    <tr style=\"text-align: right;\">\n",
              "      <th></th>\n",
              "      <th>Age</th>\n",
              "      <th>Education</th>\n",
              "      <th>Occupation</th>\n",
              "      <th>Relationship</th>\n",
              "      <th>Race</th>\n",
              "      <th>Sex</th>\n",
              "      <th>Target</th>\n",
              "    </tr>\n",
              "  </thead>\n",
              "  <tbody>\n",
              "    <tr>\n",
              "      <th>0</th>\n",
              "      <td>39</td>\n",
              "      <td>E - Bachelors</td>\n",
              "      <td>Adm-clerical</td>\n",
              "      <td>Not-in-family</td>\n",
              "      <td>White</td>\n",
              "      <td>Male</td>\n",
              "      <td>&lt;=50K</td>\n",
              "    </tr>\n",
              "    <tr>\n",
              "      <th>1</th>\n",
              "      <td>50</td>\n",
              "      <td>E - Bachelors</td>\n",
              "      <td>Exec-managerial</td>\n",
              "      <td>Husband</td>\n",
              "      <td>White</td>\n",
              "      <td>Male</td>\n",
              "      <td>&lt;=50K</td>\n",
              "    </tr>\n",
              "    <tr>\n",
              "      <th>2</th>\n",
              "      <td>38</td>\n",
              "      <td>B - HS Diploma</td>\n",
              "      <td>Handlers-cleaners</td>\n",
              "      <td>Not-in-family</td>\n",
              "      <td>White</td>\n",
              "      <td>Male</td>\n",
              "      <td>&lt;=50K</td>\n",
              "    </tr>\n",
              "    <tr>\n",
              "      <th>3</th>\n",
              "      <td>53</td>\n",
              "      <td>A - No HS Diploma</td>\n",
              "      <td>Handlers-cleaners</td>\n",
              "      <td>Husband</td>\n",
              "      <td>Black</td>\n",
              "      <td>Male</td>\n",
              "      <td>&lt;=50K</td>\n",
              "    </tr>\n",
              "    <tr>\n",
              "      <th>4</th>\n",
              "      <td>28</td>\n",
              "      <td>E - Bachelors</td>\n",
              "      <td>Prof-specialty</td>\n",
              "      <td>Wife</td>\n",
              "      <td>Black</td>\n",
              "      <td>Female</td>\n",
              "      <td>&lt;=50K</td>\n",
              "    </tr>\n",
              "    <tr>\n",
              "      <th>...</th>\n",
              "      <td>...</td>\n",
              "      <td>...</td>\n",
              "      <td>...</td>\n",
              "      <td>...</td>\n",
              "      <td>...</td>\n",
              "      <td>...</td>\n",
              "      <td>...</td>\n",
              "    </tr>\n",
              "    <tr>\n",
              "      <th>32556</th>\n",
              "      <td>27</td>\n",
              "      <td>D - Associates</td>\n",
              "      <td>Tech-support</td>\n",
              "      <td>Wife</td>\n",
              "      <td>White</td>\n",
              "      <td>Female</td>\n",
              "      <td>&lt;=50K</td>\n",
              "    </tr>\n",
              "    <tr>\n",
              "      <th>32557</th>\n",
              "      <td>40</td>\n",
              "      <td>B - HS Diploma</td>\n",
              "      <td>Machine-op-inspct</td>\n",
              "      <td>Husband</td>\n",
              "      <td>White</td>\n",
              "      <td>Male</td>\n",
              "      <td>&gt;50K</td>\n",
              "    </tr>\n",
              "    <tr>\n",
              "      <th>32558</th>\n",
              "      <td>58</td>\n",
              "      <td>B - HS Diploma</td>\n",
              "      <td>Adm-clerical</td>\n",
              "      <td>Unmarried</td>\n",
              "      <td>White</td>\n",
              "      <td>Female</td>\n",
              "      <td>&lt;=50K</td>\n",
              "    </tr>\n",
              "    <tr>\n",
              "      <th>32559</th>\n",
              "      <td>22</td>\n",
              "      <td>B - HS Diploma</td>\n",
              "      <td>Adm-clerical</td>\n",
              "      <td>Own-child</td>\n",
              "      <td>White</td>\n",
              "      <td>Male</td>\n",
              "      <td>&lt;=50K</td>\n",
              "    </tr>\n",
              "    <tr>\n",
              "      <th>32560</th>\n",
              "      <td>52</td>\n",
              "      <td>B - HS Diploma</td>\n",
              "      <td>Exec-managerial</td>\n",
              "      <td>Wife</td>\n",
              "      <td>White</td>\n",
              "      <td>Female</td>\n",
              "      <td>&gt;50K</td>\n",
              "    </tr>\n",
              "  </tbody>\n",
              "</table>\n",
              "<p>32561 rows × 7 columns</p>\n",
              "</div>\n",
              "    <div class=\"colab-df-buttons\">\n",
              "\n",
              "  <div class=\"colab-df-container\">\n",
              "    <button class=\"colab-df-convert\" onclick=\"convertToInteractive('df-f6d1be23-7f24-48b6-856c-6de9ccb4787a')\"\n",
              "            title=\"Convert this dataframe to an interactive table.\"\n",
              "            style=\"display:none;\">\n",
              "\n",
              "  <svg xmlns=\"http://www.w3.org/2000/svg\" height=\"24px\" viewBox=\"0 -960 960 960\">\n",
              "    <path d=\"M120-120v-720h720v720H120Zm60-500h600v-160H180v160Zm220 220h160v-160H400v160Zm0 220h160v-160H400v160ZM180-400h160v-160H180v160Zm440 0h160v-160H620v160ZM180-180h160v-160H180v160Zm440 0h160v-160H620v160Z\"/>\n",
              "  </svg>\n",
              "    </button>\n",
              "\n",
              "  <style>\n",
              "    .colab-df-container {\n",
              "      display:flex;\n",
              "      gap: 12px;\n",
              "    }\n",
              "\n",
              "    .colab-df-convert {\n",
              "      background-color: #E8F0FE;\n",
              "      border: none;\n",
              "      border-radius: 50%;\n",
              "      cursor: pointer;\n",
              "      display: none;\n",
              "      fill: #1967D2;\n",
              "      height: 32px;\n",
              "      padding: 0 0 0 0;\n",
              "      width: 32px;\n",
              "    }\n",
              "\n",
              "    .colab-df-convert:hover {\n",
              "      background-color: #E2EBFA;\n",
              "      box-shadow: 0px 1px 2px rgba(60, 64, 67, 0.3), 0px 1px 3px 1px rgba(60, 64, 67, 0.15);\n",
              "      fill: #174EA6;\n",
              "    }\n",
              "\n",
              "    .colab-df-buttons div {\n",
              "      margin-bottom: 4px;\n",
              "    }\n",
              "\n",
              "    [theme=dark] .colab-df-convert {\n",
              "      background-color: #3B4455;\n",
              "      fill: #D2E3FC;\n",
              "    }\n",
              "\n",
              "    [theme=dark] .colab-df-convert:hover {\n",
              "      background-color: #434B5C;\n",
              "      box-shadow: 0px 1px 3px 1px rgba(0, 0, 0, 0.15);\n",
              "      filter: drop-shadow(0px 1px 2px rgba(0, 0, 0, 0.3));\n",
              "      fill: #FFFFFF;\n",
              "    }\n",
              "  </style>\n",
              "\n",
              "    <script>\n",
              "      const buttonEl =\n",
              "        document.querySelector('#df-f6d1be23-7f24-48b6-856c-6de9ccb4787a button.colab-df-convert');\n",
              "      buttonEl.style.display =\n",
              "        google.colab.kernel.accessAllowed ? 'block' : 'none';\n",
              "\n",
              "      async function convertToInteractive(key) {\n",
              "        const element = document.querySelector('#df-f6d1be23-7f24-48b6-856c-6de9ccb4787a');\n",
              "        const dataTable =\n",
              "          await google.colab.kernel.invokeFunction('convertToInteractive',\n",
              "                                                    [key], {});\n",
              "        if (!dataTable) return;\n",
              "\n",
              "        const docLinkHtml = 'Like what you see? Visit the ' +\n",
              "          '<a target=\"_blank\" href=https://colab.research.google.com/notebooks/data_table.ipynb>data table notebook</a>'\n",
              "          + ' to learn more about interactive tables.';\n",
              "        element.innerHTML = '';\n",
              "        dataTable['output_type'] = 'display_data';\n",
              "        await google.colab.output.renderOutput(dataTable, element);\n",
              "        const docLink = document.createElement('div');\n",
              "        docLink.innerHTML = docLinkHtml;\n",
              "        element.appendChild(docLink);\n",
              "      }\n",
              "    </script>\n",
              "  </div>\n",
              "\n",
              "\n",
              "<div id=\"df-1f53e125-e01c-455d-a22d-d2d2e3efedad\">\n",
              "  <button class=\"colab-df-quickchart\" onclick=\"quickchart('df-1f53e125-e01c-455d-a22d-d2d2e3efedad')\"\n",
              "            title=\"Suggest charts\"\n",
              "            style=\"display:none;\">\n",
              "\n",
              "<svg xmlns=\"http://www.w3.org/2000/svg\" height=\"24px\"viewBox=\"0 0 24 24\"\n",
              "     width=\"24px\">\n",
              "    <g>\n",
              "        <path d=\"M19 3H5c-1.1 0-2 .9-2 2v14c0 1.1.9 2 2 2h14c1.1 0 2-.9 2-2V5c0-1.1-.9-2-2-2zM9 17H7v-7h2v7zm4 0h-2V7h2v10zm4 0h-2v-4h2v4z\"/>\n",
              "    </g>\n",
              "</svg>\n",
              "  </button>\n",
              "\n",
              "<style>\n",
              "  .colab-df-quickchart {\n",
              "      --bg-color: #E8F0FE;\n",
              "      --fill-color: #1967D2;\n",
              "      --hover-bg-color: #E2EBFA;\n",
              "      --hover-fill-color: #174EA6;\n",
              "      --disabled-fill-color: #AAA;\n",
              "      --disabled-bg-color: #DDD;\n",
              "  }\n",
              "\n",
              "  [theme=dark] .colab-df-quickchart {\n",
              "      --bg-color: #3B4455;\n",
              "      --fill-color: #D2E3FC;\n",
              "      --hover-bg-color: #434B5C;\n",
              "      --hover-fill-color: #FFFFFF;\n",
              "      --disabled-bg-color: #3B4455;\n",
              "      --disabled-fill-color: #666;\n",
              "  }\n",
              "\n",
              "  .colab-df-quickchart {\n",
              "    background-color: var(--bg-color);\n",
              "    border: none;\n",
              "    border-radius: 50%;\n",
              "    cursor: pointer;\n",
              "    display: none;\n",
              "    fill: var(--fill-color);\n",
              "    height: 32px;\n",
              "    padding: 0;\n",
              "    width: 32px;\n",
              "  }\n",
              "\n",
              "  .colab-df-quickchart:hover {\n",
              "    background-color: var(--hover-bg-color);\n",
              "    box-shadow: 0 1px 2px rgba(60, 64, 67, 0.3), 0 1px 3px 1px rgba(60, 64, 67, 0.15);\n",
              "    fill: var(--button-hover-fill-color);\n",
              "  }\n",
              "\n",
              "  .colab-df-quickchart-complete:disabled,\n",
              "  .colab-df-quickchart-complete:disabled:hover {\n",
              "    background-color: var(--disabled-bg-color);\n",
              "    fill: var(--disabled-fill-color);\n",
              "    box-shadow: none;\n",
              "  }\n",
              "\n",
              "  .colab-df-spinner {\n",
              "    border: 2px solid var(--fill-color);\n",
              "    border-color: transparent;\n",
              "    border-bottom-color: var(--fill-color);\n",
              "    animation:\n",
              "      spin 1s steps(1) infinite;\n",
              "  }\n",
              "\n",
              "  @keyframes spin {\n",
              "    0% {\n",
              "      border-color: transparent;\n",
              "      border-bottom-color: var(--fill-color);\n",
              "      border-left-color: var(--fill-color);\n",
              "    }\n",
              "    20% {\n",
              "      border-color: transparent;\n",
              "      border-left-color: var(--fill-color);\n",
              "      border-top-color: var(--fill-color);\n",
              "    }\n",
              "    30% {\n",
              "      border-color: transparent;\n",
              "      border-left-color: var(--fill-color);\n",
              "      border-top-color: var(--fill-color);\n",
              "      border-right-color: var(--fill-color);\n",
              "    }\n",
              "    40% {\n",
              "      border-color: transparent;\n",
              "      border-right-color: var(--fill-color);\n",
              "      border-top-color: var(--fill-color);\n",
              "    }\n",
              "    60% {\n",
              "      border-color: transparent;\n",
              "      border-right-color: var(--fill-color);\n",
              "    }\n",
              "    80% {\n",
              "      border-color: transparent;\n",
              "      border-right-color: var(--fill-color);\n",
              "      border-bottom-color: var(--fill-color);\n",
              "    }\n",
              "    90% {\n",
              "      border-color: transparent;\n",
              "      border-bottom-color: var(--fill-color);\n",
              "    }\n",
              "  }\n",
              "</style>\n",
              "\n",
              "  <script>\n",
              "    async function quickchart(key) {\n",
              "      const quickchartButtonEl =\n",
              "        document.querySelector('#' + key + ' button');\n",
              "      quickchartButtonEl.disabled = true;  // To prevent multiple clicks.\n",
              "      quickchartButtonEl.classList.add('colab-df-spinner');\n",
              "      try {\n",
              "        const charts = await google.colab.kernel.invokeFunction(\n",
              "            'suggestCharts', [key], {});\n",
              "      } catch (error) {\n",
              "        console.error('Error during call to suggestCharts:', error);\n",
              "      }\n",
              "      quickchartButtonEl.classList.remove('colab-df-spinner');\n",
              "      quickchartButtonEl.classList.add('colab-df-quickchart-complete');\n",
              "    }\n",
              "    (() => {\n",
              "      let quickchartButtonEl =\n",
              "        document.querySelector('#df-1f53e125-e01c-455d-a22d-d2d2e3efedad button');\n",
              "      quickchartButtonEl.style.display =\n",
              "        google.colab.kernel.accessAllowed ? 'block' : 'none';\n",
              "    })();\n",
              "  </script>\n",
              "</div>\n",
              "    </div>\n",
              "  </div>\n"
            ]
          },
          "metadata": {},
          "execution_count": 4
        }
      ]
    },
    {
      "cell_type": "code",
      "source": [
        "#Identify the Unique Education Levels\n",
        "unique_education_levels = df['Education'].unique()\n",
        "print(unique_education_levels)"
      ],
      "metadata": {
        "colab": {
          "base_uri": "https://localhost:8080/"
        },
        "id": "1IEgbG8Ovfte",
        "outputId": "3ccaab66-2d23-49b8-a175-acf86c70dc97"
      },
      "execution_count": 5,
      "outputs": [
        {
          "output_type": "stream",
          "name": "stdout",
          "text": [
            "['E - Bachelors' 'B - HS Diploma' 'A - No HS Diploma'\n",
            " 'F - Graduate Degree' 'C - Some College' 'D - Associates']\n"
          ]
        }
      ]
    },
    {
      "cell_type": "code",
      "source": [
        "#Create a Frequency Table of Education Levels\n",
        "frequency_table = df['Education'].value_counts()\n",
        "print(frequency_table)"
      ],
      "metadata": {
        "colab": {
          "base_uri": "https://localhost:8080/"
        },
        "id": "katl_TW_whjL",
        "outputId": "14b16c35-e658-4f1c-d63b-fd216615c893"
      },
      "execution_count": 6,
      "outputs": [
        {
          "output_type": "stream",
          "name": "stdout",
          "text": [
            "B - HS Diploma         10501\n",
            "C - Some College        7291\n",
            "E - Bachelors           5355\n",
            "A - No HS Diploma       4253\n",
            "F - Graduate Degree     2712\n",
            "D - Associates          2449\n",
            "Name: Education, dtype: int64\n"
          ]
        }
      ]
    },
    {
      "cell_type": "code",
      "source": [
        "# Identify the Most Common Education Level\n",
        "most_common_education_level = frequency_table.idxmax()\n",
        "print(\"The most common education level is:\", most_common_education_level)"
      ],
      "metadata": {
        "colab": {
          "base_uri": "https://localhost:8080/"
        },
        "id": "nXZCU0v1xEzD",
        "outputId": "a327abf9-4fcf-491b-bc8d-288e34621c63"
      },
      "execution_count": 12,
      "outputs": [
        {
          "output_type": "stream",
          "name": "stdout",
          "text": [
            "The most common education level is: B - HS Diploma\n"
          ]
        }
      ]
    },
    {
      "cell_type": "code",
      "execution_count": null,
      "metadata": {
        "deletable": false,
        "editable": false,
        "nbgrader": {
          "cell_type": "code",
          "checksum": "7224a40515d5d1b333e58c8fc5c5903d",
          "grade": true,
          "grade_id": "cell-e84ab604e6027b75",
          "locked": true,
          "points": 0.5,
          "schema_version": 3,
          "solution": false,
          "task": false
        },
        "id": "cI1UAnH8tUFH"
      },
      "outputs": [],
      "source": [
        "# PUT ALL WORK FOR THE ABOVE QUESTION ABOVE THIS CELL\n",
        "# THIS UNALTERABLE CELL CONTAINS HIDDEN TESTS"
      ]
    },
    {
      "cell_type": "markdown",
      "metadata": {
        "deletable": false,
        "editable": false,
        "nbgrader": {
          "cell_type": "markdown",
          "checksum": "ce57847d180ea3160a236fa306425ba4",
          "grade": false,
          "grade_id": "cell-eb380d68993a5c41",
          "locked": true,
          "schema_version": 3,
          "solution": false,
          "task": false
        },
        "id": "pSBbs3fAtUFH"
      },
      "source": [
        "## 2. Open the File and Create a List of Records\n",
        "\n",
        "The file path is `salaries.csv`.\n",
        "\n",
        "Make sure you follow these steps with the specified variable names in order to pass all tests:\n",
        "\n",
        "1. Create a file object `salary_data_file` by opening the file with that path\n",
        "2. Instantiate a `DictReader` ([documentation here](https://docs.python.org/3/library/csv.html#csv.DictReader)) using that file object\n",
        "3. Cast the `DictReader` to a `list` and assign the result to `salary_data`\n",
        "4. Close the `salary_data_file`"
      ]
    },
    {
      "cell_type": "code",
      "execution_count": null,
      "metadata": {
        "deletable": false,
        "nbgrader": {
          "cell_type": "code",
          "checksum": "46372bb7723f493ab363a698923a6de0",
          "grade": false,
          "grade_id": "cell-a9162c074cf68b51",
          "locked": false,
          "schema_version": 3,
          "solution": true,
          "task": false
        },
        "id": "FiNEzj4CtUFI"
      },
      "outputs": [],
      "source": [
        "# Replace None with appropriate code\n",
        "\n",
        "# Open the file\n",
        "salary_data_file = None\n",
        "\n",
        "# Instantiate a DictReader and create salary_data\n",
        "salary_data = None\n",
        "\n",
        "# Close salary_data_file\n",
        "None\n",
        "\n",
        "# YOUR CODE HERE\n",
        "raise NotImplementedError()\n",
        "\n",
        "# Visually inspecting the first few records\n",
        "for record in salary_data[:5]:\n",
        "    print(record)"
      ]
    },
    {
      "cell_type": "code",
      "execution_count": null,
      "metadata": {
        "deletable": false,
        "editable": false,
        "nbgrader": {
          "cell_type": "code",
          "checksum": "3e07d302da48ba3b5cd76ff3d216dd92",
          "grade": true,
          "grade_id": "cell-e95e687ed59c2de2",
          "locked": true,
          "points": 1,
          "schema_version": 3,
          "solution": false,
          "task": false
        },
        "id": "1xPgD_g7tUFI"
      },
      "outputs": [],
      "source": [
        "# Checking salary_data_file\n",
        "assert type(salary_data_file) != None\n",
        "\n",
        "# PUT ALL WORK FOR THE ABOVE QUESTION ABOVE THIS CELL\n",
        "# THIS UNALTERABLE CELL CONTAINS HIDDEN TESTS"
      ]
    },
    {
      "cell_type": "code",
      "execution_count": null,
      "metadata": {
        "deletable": false,
        "editable": false,
        "nbgrader": {
          "cell_type": "code",
          "checksum": "9852c6f0c7f969ef5c2058456afd5181",
          "grade": true,
          "grade_id": "cell-1a44994220dfeb56",
          "locked": true,
          "points": 0.5,
          "schema_version": 3,
          "solution": false,
          "task": false
        },
        "id": "ei9949H9tUFI"
      },
      "outputs": [],
      "source": [
        "# Checking salary_data\n",
        "assert type(salary_data) == list\n",
        "\n",
        "# PUT ALL WORK FOR THE ABOVE QUESTION ABOVE THIS CELL\n",
        "# THIS UNALTERABLE CELL CONTAINS HIDDEN TESTS"
      ]
    },
    {
      "cell_type": "markdown",
      "metadata": {
        "deletable": false,
        "editable": false,
        "nbgrader": {
          "cell_type": "markdown",
          "checksum": "a2b7b8d2dc69df74aebd1a377d5467f2",
          "grade": false,
          "grade_id": "cell-d84f38e73f5ed982",
          "locked": true,
          "schema_version": 3,
          "solution": false,
          "task": false
        },
        "id": "PfGxRwDLtUFJ"
      },
      "source": [
        "## 3. Identify the Unique Education Levels\n",
        "\n",
        "Create a list `unique_education_levels` that contains all unique values associated with the `Education` key in these records, in alphabetical order.\n",
        "\n",
        "***Hint:*** You'll need to loop over all records (dictionaries) in `salary_data` and find the value associated with the `Education` key for each\n",
        "\n",
        "***Hint:*** The `.sort` list method or `sorted` built-in function can be used to sort strings into alphabetical order. Note that `.sort` modifies the list in place and returns `None`, whereas `sorted` does not modify the list in place but returns a sorted version."
      ]
    },
    {
      "cell_type": "code",
      "execution_count": null,
      "metadata": {
        "deletable": false,
        "nbgrader": {
          "cell_type": "code",
          "checksum": "9c86256d752a45e778409d4f88eb6889",
          "grade": false,
          "grade_id": "cell-1515986a288add22",
          "locked": false,
          "schema_version": 3,
          "solution": true,
          "task": false
        },
        "id": "Z-FmlsbDtUFJ"
      },
      "outputs": [],
      "source": [
        "# Replace None with appropriate code (adding more lines as needed)\n",
        "\n",
        "unique_education_levels = None\n",
        "\n",
        "# YOUR CODE HERE\n",
        "raise NotImplementedError()\n",
        "\n",
        "print(\"Unique Education Levels:\")\n",
        "print(unique_education_levels)"
      ]
    },
    {
      "cell_type": "code",
      "execution_count": null,
      "metadata": {
        "deletable": false,
        "editable": false,
        "nbgrader": {
          "cell_type": "code",
          "checksum": "180753300736a4f2e3089f01f54f1293",
          "grade": true,
          "grade_id": "cell-bd814f2a81f3ac73",
          "locked": true,
          "points": 1,
          "schema_version": 3,
          "solution": false,
          "task": false
        },
        "id": "omfNPxxztUGH"
      },
      "outputs": [],
      "source": [
        "# Checking unique_education_levels\n",
        "assert type(unique_education_levels) == list\n",
        "assert len(unique_education_levels) == 6\n",
        "\n",
        "# PUT ALL WORK FOR THE ABOVE QUESTION ABOVE THIS CELL\n",
        "# THIS UNALTERABLE CELL CONTAINS HIDDEN TESTS"
      ]
    },
    {
      "cell_type": "markdown",
      "metadata": {
        "deletable": false,
        "editable": false,
        "nbgrader": {
          "cell_type": "markdown",
          "checksum": "74de912024d5e0ee909d5f134a844ac9",
          "grade": false,
          "grade_id": "cell-93e48ec22dbc6122",
          "locked": true,
          "schema_version": 3,
          "solution": false,
          "task": false
        },
        "id": "iNr_nKWutUGH"
      },
      "source": [
        "## 4. Create a Frequency Table of Education Levels\n",
        "\n",
        "Create a dictionary `education_level_frequencies` where the keys are the unique education levels found above, and the values are the number of times that the education level appeared in the full dataset.\n",
        "\n",
        "For example, the key `A - No HS Diploma` should have the associated value `4253`, since that education level appears 4,253 times in the dataset."
      ]
    },
    {
      "cell_type": "code",
      "execution_count": null,
      "metadata": {
        "deletable": false,
        "nbgrader": {
          "cell_type": "code",
          "checksum": "43255a38e136076e8760f3a5e938dded",
          "grade": false,
          "grade_id": "cell-fa6ba75af40e3f7b",
          "locked": false,
          "schema_version": 3,
          "solution": true,
          "task": false
        },
        "id": "Wn-LmB-XtUGH"
      },
      "outputs": [],
      "source": [
        "# Replace None with appropriate code (add more lines as needed)\n",
        "\n",
        "education_level_frequencies = None\n",
        "\n",
        "# YOUR CODE HERE\n",
        "raise NotImplementedError()\n",
        "\n",
        "# Testing out your code\n",
        "print(\"The most common education level appears\", max(education_level_frequencies.values()), \"times\")\n",
        "print(\"The least common education level appears\", min(education_level_frequencies.values()), \"times\")"
      ]
    },
    {
      "cell_type": "code",
      "execution_count": null,
      "metadata": {
        "deletable": false,
        "editable": false,
        "nbgrader": {
          "cell_type": "code",
          "checksum": "f14860d87bcf151118805d5bb167a5c2",
          "grade": true,
          "grade_id": "cell-a0cdae6cd59456db",
          "locked": true,
          "points": 1,
          "schema_version": 3,
          "solution": false,
          "task": false
        },
        "id": "6UVQTmOftUGI"
      },
      "outputs": [],
      "source": [
        "# Checking education_level_frequencies\n",
        "\n",
        "# Should be a dictionary overall\n",
        "assert type(education_level_frequencies) == dict\n",
        "\n",
        "x = list(education_level_frequencies.keys())\n",
        "height = list(education_level_frequencies.values())\n",
        "\n",
        "# Should have string keys\n",
        "assert type(x[0]) == str\n",
        "# Should have integer values\n",
        "assert type(height[0]) == int\n",
        "\n",
        "# This plotting code should work\n",
        "import matplotlib.pyplot as plt\n",
        "fig, ax = plt.subplots(figsize=(12, 5))\n",
        "ax.bar(x, height)\n",
        "ax.tick_params(axis='x', labelrotation=45)\n",
        "ax.set_title(\"Distribution of Education Levels\")\n",
        "ax.set_ylabel(\"Count\");\n",
        "\n",
        "# PUT ALL WORK FOR THE ABOVE QUESTION ABOVE THIS CELL\n",
        "# THIS UNALTERABLE CELL CONTAINS HIDDEN TESTS"
      ]
    },
    {
      "cell_type": "markdown",
      "metadata": {
        "deletable": false,
        "editable": false,
        "nbgrader": {
          "cell_type": "markdown",
          "checksum": "5682e99d66d50ccd4d660c5523cfb1ad",
          "grade": false,
          "grade_id": "cell-c27640e9b2facfdc",
          "locked": true,
          "schema_version": 3,
          "solution": false,
          "task": false
        },
        "id": "J2mvputhtUGI"
      },
      "source": [
        "## 5. Identify the Most Common Education Level\n",
        "\n",
        "Based on the above graph, which education level is most common in this dataset?\n",
        "\n",
        "Set the value of the variable `most_common` to the string value of that education level. You can just type in the answer rather than finding this with code, but make sure that the test cell passes — it checks that your answer is one of the valid answers (hopefully helping you avoid a spelling mistake)."
      ]
    },
    {
      "cell_type": "code",
      "execution_count": null,
      "metadata": {
        "deletable": false,
        "nbgrader": {
          "cell_type": "code",
          "checksum": "3d7d359b0f35bb28c97e13ab7795b955",
          "grade": false,
          "grade_id": "cell-9d46f2004bddc2c5",
          "locked": false,
          "schema_version": 3,
          "solution": true,
          "task": false
        },
        "id": "ChjMVxiFtUGJ"
      },
      "outputs": [],
      "source": [
        "# Replace None with appropriate code\n",
        "\n",
        "most_common = None\n",
        "\n",
        "# YOUR CODE HERE\n",
        "raise NotImplementedError()"
      ]
    },
    {
      "cell_type": "code",
      "execution_count": null,
      "metadata": {
        "deletable": false,
        "editable": false,
        "nbgrader": {
          "cell_type": "code",
          "checksum": "dec38948d8070e3e59312d3a9f38315b",
          "grade": true,
          "grade_id": "cell-1d083772aa40150e",
          "locked": true,
          "points": 1,
          "schema_version": 3,
          "solution": false,
          "task": false
        },
        "id": "hjHXWDWJtUGK"
      },
      "outputs": [],
      "source": [
        "assert type(most_common) == str\n",
        "assert most_common in [\n",
        "    'A - No HS Diploma',\n",
        "    'B - HS Diploma',\n",
        "    'C - Some College',\n",
        "    'D - Associates',\n",
        "    'E - Bachelors',\n",
        "    'F - Graduate Degree'\n",
        "]\n",
        "\n",
        "# PUT ALL WORK FOR THE ABOVE QUESTION ABOVE THIS CELL\n",
        "# THIS UNALTERABLE CELL CONTAINS HIDDEN TESTS"
      ]
    }
  ],
  "metadata": {
    "kernelspec": {
      "display_name": "Python (python3)",
      "language": "python",
      "name": "python3"
    },
    "language_info": {
      "codemirror_mode": {
        "name": "ipython",
        "version": 3
      },
      "file_extension": ".py",
      "mimetype": "text/x-python",
      "name": "python",
      "nbconvert_exporter": "python",
      "pygments_lexer": "ipython3",
      "version": "3.9.5"
    },
    "colab": {
      "provenance": [],
      "include_colab_link": true
    }
  },
  "nbformat": 4,
  "nbformat_minor": 0
}